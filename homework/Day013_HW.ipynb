{
 "cells": [
  {
   "cell_type": "markdown",
   "metadata": {},
   "source": [
    "# PTT 網路爬蟲實作練習\n",
    "\n",
    "\n",
    "* 能夠利用 Request + BeatifulSour 撰寫爬蟲，並存放到合適的資料結構\n"
   ]
  },
  {
   "cell_type": "markdown",
   "metadata": {},
   "source": [
    "## 作業目標\n",
    "\n",
    "根據範例 ，完成以下問題：\n",
    "\n",
    "* ① 印出最新文章的「作者」「標題」「時間」\n",
    "* ② 印出第一頁所有文章的「作者」「標題」「時間」\n"
   ]
  },
  {
   "cell_type": "markdown",
   "metadata": {},
   "source": [
    "### ① 印出最新文章的「作者」「標題」「時間」"
   ]
  },
  {
   "cell_type": "code",
   "execution_count": 83,
   "metadata": {
    "scrolled": true
   },
   "outputs": [
    {
     "name": "stdout",
     "output_type": "stream",
     "text": [
      "[討論] Zion和Ayton\n",
      "author:PttGod (PttGod)\n",
      "time:Sat Apr 11 15:37:46 2020\n",
      "Re: [討論] 在台灣，林來瘋跟王建民19勝哪個比較\n",
      "author:max2604 (Tyler)\n",
      "time:Sat Apr 11 16:16:46 2020\n",
      "[花邊] NBA史上的今天--神傳出生涯第5,000次助攻\n",
      "author:leemz ()\n",
      "time:Sat Apr 11 17:03:39 2020\n",
      "[專欄] 生不逢時的天才前鋒 韋伯何時得到名人堂\n",
      "author:Intelnet ()\n",
      "time:Sat Apr 11 19:14:11 2020\n",
      "[新聞] 林書豪接受「衛生紙挑戰」自稱是很棒的足球員　結果踢\n",
      "author:kuluma (墨駒)\n",
      "time:Sat Apr 11 19:17:55 2020\n",
      "(本文已被刪除) [SupHateSpurs]\n",
      "Re: [專欄] 生不逢時的天才前鋒 韋伯何時得到名人堂\n",
      "author:pttyeon (the one)\n",
      "time:Sat Apr 11 21:45:23 2020\n",
      "[花邊] 退休回憶湧心頭 諾維茨基:不敢相信已過一年\n",
      "author:thnlkj0665 (灰色地帶)\n",
      "time:Sat Apr 11 22:22:57 2020\n",
      "[討論] nba總冠軍賽最關鍵的一球？\n",
      "author:b233444 (Star)\n",
      "time:Sat Apr 11 22:54:35 2020\n",
      "[情報] 聯盟期望六月中復賽，比賽將空場進行\n",
      "author:PttGod (PttGod)\n",
      "time:Sat Apr 11 23:46:33 2020\n",
      "[新聞] 樂觀看待騎士 主帥：下季沒理由不進季後賽\n",
      "author:Gotham (萬惡之城)\n",
      "time:Sat Apr 11 23:59:30 2020\n",
      "[花邊] 跟KT口角後 Collins現在還收到勇粉咒罵信\n",
      "author:pneumo (超☆冒險蓋)\n",
      "time:Sun Apr 12 00:51:26 2020\n",
      "[公告] 板規v6.8\n",
      "[公告] 版主上任相關事項 \n",
      "author:qazwsx879345 (Rajon Rondo)\n",
      "time:Fri Oct 25 10:44:03 2019\n",
      "[情報] SEASON Schedule 賽程 March 19–20\n",
      "author:Acetoxy (阿斯)\n",
      "time:Mon Mar  2 01:19:40 2020\n",
      "[公告] 第一次被退文，可在三天後刪除退文\n",
      "author:Vedan (味丹)\n",
      "time:Mon Mar  9 11:44:26 2020\n",
      "[公告] 板務說明 (發錢)\n",
      "author:Vedan (味丹)\n",
      "time:Fri Apr  3 01:28:00 2020\n"
     ]
    }
   ],
   "source": [
    "import requests \n",
    "from bs4 import BeautifulSoup\n",
    "url='https://www.ptt.cc/bbs/NBA/index.html'\n",
    "r=requests.get(url)\n",
    "re=r.text\n",
    "soup=BeautifulSoup(re,'lxml')\n",
    "for i in soup.find_all(class_='title'):\n",
    "    print(i.text.replace('\\t',\"\").replace('\\n',\"\"))\n",
    "    \n",
    "    try:\n",
    "        r = BeautifulSoup(requests.get('https://www.ptt.cc'+i.find('a')['href']).text,'lxml')\n",
    "        print('author:'+r.find(class_='article-meta-value').text)\n",
    "        print('time:'+r.find_all(class_='article-meta-value')[-1].text)\n",
    "    except:\n",
    "        continue\n",
    "\n",
    "   "
   ]
  },
  {
   "cell_type": "markdown",
   "metadata": {},
   "source": [
    "### ② 印出第一頁所有文章的「作者」「標題」「時間」"
   ]
  },
  {
   "cell_type": "code",
   "execution_count": 84,
   "metadata": {
    "scrolled": true
   },
   "outputs": [
    {
     "name": "stdout",
     "output_type": "stream",
     "text": [
      "[轉錄]Lyotard 對於太陽板討論串的結論\n",
      "author:Price (Price)\n",
      "time:Sun May 16 01:54:33 2004\n",
      "[公告] 請停止一切關於本次活動的發言\n",
      "author:Price (Price)\n",
      "time:Mon May 24 00:43:00 2004\n",
      "[轉錄]跟之前那篇比起來 我覺得這篇也應該轉過來\n",
      "author:Frankaze (神采風華)\n",
      "time:Tue Jun  8 01:16:45 2004\n",
      "[轉錄]再轉一篇好文來\n",
      "author:Frankaze (神采風華)\n",
      "time:Tue Jun  8 09:02:23 2004\n",
      "[轉錄][情報] 夏洛特山貓系列\n",
      "author:Price (Price)\n",
      "time:Thu Jun 10 00:39:35 2004\n",
      "[轉錄]Re: [心得] 真是受不了糗爺....\n",
      "author:Price (Price)\n",
      "time:Thu Jun 10 00:51:35 2004\n",
      "[轉錄]總冠軍賽NO.2觀後感\n",
      "author:Price (Price)\n",
      "time:Thu Jun 10 12:05:07 2004\n",
      "[心得] Rasheed Wallace\n",
      "author:AmuroNamie (原來太嗨真的會失眠^___^)\n",
      "time:Fri Jun 11 15:06:09 2004\n",
      "掌控球賽的男人\n",
      "author:toptree (  )\n",
      "time:Sat Jun 12 07:13:04 2004\n",
      "[閒聊] 說說2004季後賽名場面回顧\n",
      "author:skchang (3EB板開板囉！)\n",
      "time:Sat Jun 12 13:21:49 2004\n",
      "[心得] 其實說穿了 就是活塞的防守太可怕了\n",
      "author:shineup ()\n",
      "time:Sat Jun 12 13:12:47 2004\n",
      "Re: [閒聊] 說說2004季後賽名場面回顧\n",
      "author:cOvi (喵~)\n",
      "time:Sat Jun 12 16:43:07 2004\n",
      "Re: [閒聊] 說說2004季後賽名場面回顧\n",
      "author:ykshih (￼N￼Ns)\n",
      "time:Sat Jun 12 17:26:37 2004\n",
      "Re: [閒聊] 說說2004季後賽名場面回顧\n",
      "author:Frankaze (神采風華)\n",
      "time:Sat Jun 12 18:34:46 2004\n",
      "[轉錄]Re: 總冠軍賽NO.3觀後感\n",
      "author:Price (Price)\n",
      "time:Mon Jun 14 02:18:52 2004\n",
      "[轉錄]Re: 總冠軍賽NO.3觀後感\n",
      "author:Frankaze (神采風華)\n",
      "time:Mon Jun 14 02:34:33 2004\n",
      "Re: [轉錄]Re: 總冠軍賽NO.3觀後感\n",
      "author:star1 (第一次魔術表演不算成功)\n",
      "time:Mon Jun 14 07:16:30 2004\n",
      "Re: [轉錄]Re: 總冠軍賽NO.3觀後感\n",
      "author:coldspring (笑笑)\n",
      "time:Mon Jun 14 09:24:57 2004\n",
      "Re: Kobe is frustrated...\n",
      "author:airbear (地圖)\n",
      "time:Mon Jun 14 12:56:14 2004\n",
      "Re: [轉錄]Re: 總冠軍賽NO.3觀後感\n",
      "author:pennykidd (andre)\n",
      "time:Mon Jun 14 22:07:01 2004\n"
     ]
    }
   ],
   "source": [
    "url='https://www.ptt.cc/bbs/NBA/index1.html'\n",
    "r=requests.get(url)\n",
    "re=r.text\n",
    "soup=BeautifulSoup(re,'lxml')\n",
    "for i in soup.find_all(class_='title'):\n",
    "    print(i.text.replace('\\t',\"\").replace('\\n',\"\"))\n",
    "    \n",
    "    try:\n",
    "        r = BeautifulSoup(requests.get('https://www.ptt.cc'+i.find('a')['href']).text,'lxml')\n",
    "        print('author:'+r.find(class_='article-meta-value').text)\n",
    "        print('time:'+r.find_all(class_='article-meta-value')[-1].text)\n",
    "    except:\n",
    "        continue"
   ]
  },
  {
   "cell_type": "markdown",
   "metadata": {},
   "source": [
    "### ③ 試著爬爬看其他版的文章"
   ]
  },
  {
   "cell_type": "code",
   "execution_count": 131,
   "metadata": {
    "scrolled": true
   },
   "outputs": [
    {
     "name": "stdout",
     "output_type": "stream",
     "text": [
      "[新板成立] MAMAMOO板\n",
      "作者: zevix\n",
      "日期:  3/24\n",
      "[開版] 我是第一篇嗎！！！！！\n",
      "作者: iambling\n",
      "日期:  3/24\n",
      "[影音] 160324 Mnet M!Countdown\n",
      "作者: z80680613\n",
      "日期:  3/24\n",
      "[影音] 160322 MMMTV2 EP3 1cm的自尊心MV 幕後花絮 \n",
      "作者: qoo12311\n",
      "日期:  3/24\n",
      "[影音] 160225-160323 你 is 完美\n",
      "作者: z80680613\n",
      "日期:  3/24\n",
      "[公告] 開板公告\n",
      "作者: ppmon0911\n",
      "日期:  3/24\n",
      "[開版] 恭喜開版~~~ (開版人氣記錄)\n",
      "作者: ki715\n",
      "日期:  3/24\n",
      "[開版] 開版粗咖嘿!!\n",
      "作者: kaikai317\n",
      "日期:  3/24\n",
      "[閒聊] 160324-160326\n",
      "作者: ppmon0911\n",
      "日期:  3/24\n",
      "[開版] 恭喜開版\n",
      "作者: LOWJ\n",
      "日期:  3/24\n",
      "[開版] 恭喜開版\n",
      "作者: a831155334\n",
      "日期:  3/24\n",
      "[開版] MOOMOO們的小天地 1,2,3 喔依!!!!  <3\n",
      "作者: lingaboa\n",
      "日期:  3/24\n",
      "[影音] 歌單整理 蘿蔔們不能遺漏的歌!! \n",
      "作者: wuming2\n",
      "日期:  3/24\n",
      "[開版] 蘿蔔大法好\n",
      "作者: lucichen0802\n",
      "日期:  3/24\n",
      "[開版] 恭喜MAMAMOO版開版\n",
      "作者: enyf2006\n",
      "日期:  3/24\n",
      "[開版] MAMAMOO開版了~~~~~\n",
      "作者: charlie84319\n",
      "日期:  3/24\n",
      "[影音] 不朽的名曲2\n",
      "作者: abc831103\n",
      "日期:  3/24\n",
      "[開版] 恭喜MAMAMOO開版啦~~\n",
      "作者: joyce1403\n",
      "日期:  3/24\n",
      "[開版] 恭喜開版!!!!!\n",
      "作者: ritalgy\n",
      "日期:  3/24\n",
      "[情報] MAMAMOO 三月份行程表\n",
      "作者: a84817f\n",
      "日期:  3/24\n"
     ]
    }
   ],
   "source": [
    "#MAMAMOO版第一頁標題作者日期\n",
    "link='https://www.ptt.cc/bbs/MAMAMOO/index1.html'\n",
    "mama=requests.get(link)\n",
    "moo=BeautifulSoup(mama.text,'lxml')\n",
    "for i in moo.find_all(class_='r-ent'):\n",
    "    print(i.find('a').text)\n",
    "    print('作者:',i.find(class_='author').text)\n",
    "    print('日期:',i.find(class_='date').text)"
   ]
  }
 ],
 "metadata": {
  "kernelspec": {
   "display_name": "Python 3",
   "language": "python",
   "name": "python3"
  },
  "language_info": {
   "codemirror_mode": {
    "name": "ipython",
    "version": 3
   },
   "file_extension": ".py",
   "mimetype": "text/x-python",
   "name": "python",
   "nbconvert_exporter": "python",
   "pygments_lexer": "ipython3",
   "version": "3.7.4"
  }
 },
 "nbformat": 4,
 "nbformat_minor": 2
}

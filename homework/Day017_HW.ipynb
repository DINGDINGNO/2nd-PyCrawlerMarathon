{
 "cells": [
  {
   "cell_type": "markdown",
   "metadata": {},
   "source": [
    "# HTTP 動態網頁架構說明\n",
    "\n",
    "\n",
    "* 了解動態網頁的資料爬蟲策略\n",
    "* 知道非同步網頁載入機制（Ajax）\n",
    "* 學習兩種對應動態網頁爬蟲的的策略\n"
   ]
  },
  {
   "cell_type": "markdown",
   "metadata": {},
   "source": [
    "## 作業目標\n",
    "\n",
    "回答以下問題：\n",
    "\n",
    "1. 動態網頁跟靜態網頁的差別是什麼？原本靜態網頁的做法會產生什麼問題或是缺點？\n",
    "2. 還記得我們在 ETTODAY 靜態爬蟲實作練習中，有請大家完成一個題目「取出今天所有的發文」，但仔細看其實並沒有真的把當天所有的新聞都抓回來， 試著回答看看原因是什麼？及該如何檢查？\n"
   ]
  },
  {
   "cell_type": "markdown",
   "metadata": {},
   "source": [
    "### 1. 動態網頁跟靜態網頁的差別是什麼？原本靜態網頁的做法會產生什麼問題或是缺點？"
   ]
  },
  {
   "cell_type": "code",
   "execution_count": 1,
   "metadata": {},
   "outputs": [
    {
     "data": {
      "text/plain": [
       "'\\n靜態網頁:\\n1. 副檔名一般為html or htm，無論瀏覽內容如何，靜態網頁內容的內容都是保存在網頁伺服器上，因此功能簡單且內容更新量不大適合靜態網頁。\\n2. 內容相對穩定，容易被搜索引擎檢索\\n3. 客戶端運行\\n動態網頁:\\n1. 伺服器端運行\\n2. 它們會隨不同客戶、不同時間，返回不同的網頁\\n3. 動態網頁以數據庫技術為基礎，可以大大降低網站維護的工作量\\n4. 採用動態網頁技術的網站可以實現更多的功能，如用戶註冊、用戶登錄、在線調查、用戶管理、訂單管理\\n靜態網頁缺點:\\n靜態網頁是相對於動態網頁而言，是指沒有後台數據庫、不含程序和不可交互的網頁。你編的是什麼它顯示的就是什麼、不會有任何改變。靜態網頁相對更新起來比較麻煩\\n，網站管理不易，與用戶的互動更受到限制。\\n'"
      ]
     },
     "execution_count": 1,
     "metadata": {},
     "output_type": "execute_result"
    }
   ],
   "source": [
    "'''\n",
    "靜態網頁:\n",
    "1. 副檔名一般為html or htm，無論瀏覽內容如何，靜態網頁內容的內容都是保存在網頁伺服器上，因此功能簡單且內容更新量不大適合靜態網頁。\n",
    "2. 內容相對穩定，容易被搜索引擎檢索\n",
    "3. 客戶端運行\n",
    "動態網頁:\n",
    "1. 伺服器端運行\n",
    "2. 它們會隨不同客戶、不同時間，返回不同的網頁\n",
    "3. 動態網頁以數據庫技術為基礎，可以大大降低網站維護的工作量\n",
    "4. 採用動態網頁技術的網站可以實現更多的功能，如用戶註冊、用戶登錄、在線調查、用戶管理、訂單管理\n",
    "靜態網頁缺點:\n",
    "靜態網頁是相對於動態網頁而言，是指沒有後台數據庫、不含程序和不可交互的網頁。你編的是什麼它顯示的就是什麼、不會有任何改變。靜態網頁相對更新起來比較麻煩\n",
    "，網站管理不易，與用戶的互動更受到限制。\n",
    "'''"
   ]
  },
  {
   "cell_type": "markdown",
   "metadata": {},
   "source": [
    "### 2. 還記得我們在 ETTODAY 靜態爬蟲實作練習中，有請大家完成一個題目「取出今天所有的發文」，但仔細看其實並沒有真的把當天所有的新聞都抓回來， 試著回答看看原因是什麼？及該如何檢查？"
   ]
  },
  {
   "cell_type": "code",
   "execution_count": 2,
   "metadata": {},
   "outputs": [
    {
     "data": {
      "text/plain": [
       "'\\nYour Input\\n'"
      ]
     },
     "execution_count": 2,
     "metadata": {},
     "output_type": "execute_result"
    }
   ],
   "source": [
    "'''\n",
    "因為網頁為動態網頁，在瀏覽器中檢視頁面相應的內容、當在檢視頁面原始碼時找不到該內容時就可以確定該頁面使用了動態技術\n",
    "'''"
   ]
  }
 ],
 "metadata": {
  "kernelspec": {
   "display_name": "Python 3",
   "language": "python",
   "name": "python3"
  },
  "language_info": {
   "codemirror_mode": {
    "name": "ipython",
    "version": 3
   },
   "file_extension": ".py",
   "mimetype": "text/x-python",
   "name": "python",
   "nbconvert_exporter": "python",
   "pygments_lexer": "ipython3",
   "version": "3.7.4"
  }
 },
 "nbformat": 4,
 "nbformat_minor": 2
}

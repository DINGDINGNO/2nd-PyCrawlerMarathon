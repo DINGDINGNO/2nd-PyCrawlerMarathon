{
 "cells": [
  {
   "cell_type": "markdown",
   "metadata": {},
   "source": [
    "# API 資料串接 - 以 Dcard API 實作範例\n",
    "\n",
    "* 了解 Dcard API 使用方式與回傳內容\n",
    "* 撰寫程式存取 API 且解析 JSON 格式資料\n"
   ]
  },
  {
   "cell_type": "markdown",
   "metadata": {},
   "source": [
    "## 作業目標\n",
    "\n",
    "* 請利用 API: https://www.dcard.tw/_api/forums/pet/posts?popular=true 回答下列問題：\n",
    "\n",
    "1. 這個 API 一次會回傳幾筆資料？每一筆資料包含哪些欄位？\n",
    "2. 取出每一筆資料的「標題」、「貼文時間」、「留言人數」、「按讚人數」\n",
    "3. 計算熱門/非熱門文章的「平均留言人數」與「平均按讚人數」"
   ]
  },
  {
   "cell_type": "code",
   "execution_count": 20,
   "metadata": {},
   "outputs": [
    {
     "name": "stdout",
     "output_type": "stream",
     "text": [
      "第一小題: 30 筆\n",
      "dict_keys(['id', 'title', 'excerpt', 'anonymousSchool', 'anonymousDepartment', 'pinned', 'forumId', 'replyId', 'createdAt', 'updatedAt', 'commentCount', 'likeCount', 'withNickname', 'tags', 'topics', 'meta', 'forumName', 'forumAlias', 'gender', 'school', 'replyTitle', 'mediaMeta', 'reactions', 'hidden', 'customStyle', 'isSuspiciousAccount', 'layout', 'withImages', 'withVideos', 'media', 'reportReasonText', 'postAvatar'])\n"
     ]
    }
   ],
   "source": [
    "# 1. 這個 API 一次會回傳幾筆資料？每一筆資料包含哪些欄位？\n",
    "import requests,json\n",
    "d=requests.get(\" https://www.dcard.tw/_api/forums/pet/posts?popular=true\")\n",
    "response=d.text\n",
    "de=json.loads(d.text)\n",
    "dcard=de[0]\n",
    "print(\"第一小題:\",len(de),\"筆\")\n",
    "print(dcard.keys())"
   ]
  },
  {
   "cell_type": "code",
   "execution_count": 23,
   "metadata": {},
   "outputs": [
    {
     "name": "stdout",
     "output_type": "stream",
     "text": [
      "標題: 真的養了一隻廢柴🐶\n",
      "貼文時間: 2020-03-13T13:17:05.275Z\n",
      "留言人數: 36\n",
      "按讚人數: 465\n",
      "標題: 你看我像嗎\n",
      "貼文時間: 2020-03-13T00:12:17.964Z\n",
      "留言人數: 5\n",
      "按讚人數: 59\n",
      "標題: #圖多 幫寶貝鼠鼠做個木屋\n",
      "貼文時間: 2020-03-13T13:23:49.217Z\n",
      "留言人數: 0\n",
      "按讚人數: 26\n",
      "標題: 你在幹嘛?\n",
      "貼文時間: 2020-03-13T17:47:08.708Z\n",
      "留言人數: 1\n",
      "按讚人數: 23\n",
      "標題: 兔子把自己手指咬掉\n",
      "貼文時間: 2020-03-13T15:44:44.845Z\n",
      "留言人數: 17\n",
      "按讚人數: 19\n",
      "標題: 協尋高雄楠梓母黑柴\n",
      "貼文時間: 2020-03-13T07:27:04.961Z\n",
      "留言人數: 6\n",
      "按讚人數: 18\n",
      "標題: 我家的吉娃娃是人\n",
      "貼文時間: 2020-03-13T04:19:53.442Z\n",
      "留言人數: 5\n",
      "按讚人數: 18\n",
      "標題: 回家囉\n",
      "貼文時間: 2020-03-13T07:01:03.729Z\n",
      "留言人數: 6\n",
      "按讚人數: 17\n",
      "標題: 小笨貓的新朋友\n",
      "貼文時間: 2020-03-13T05:48:01.723Z\n",
      "留言人數: 8\n",
      "按讚人數: 15\n",
      "標題: 別吵我\n",
      "貼文時間: 2020-03-14T03:38:50.218Z\n",
      "留言人數: 3\n",
      "按讚人數: 14\n",
      "標題: 小動物塗鴉💕\n",
      "貼文時間: 2020-03-13T11:52:29.452Z\n",
      "留言人數: 1\n",
      "按讚人數: 13\n",
      "標題: 關於乖乖當模特兒這件事\n",
      "貼文時間: 2020-03-13T06:46:55.000Z\n",
      "留言人數: 2\n",
      "按讚人數: 13\n",
      "標題: #扁臉 心情不好曬貓貓\n",
      "貼文時間: 2020-03-13T14:06:36.640Z\n",
      "留言人數: 2\n",
      "按讚人數: 12\n",
      "標題: #圖多#橘貓 叫我臭臉女王\n",
      "貼文時間: 2020-03-13T16:31:42.993Z\n",
      "留言人數: 2\n",
      "按讚人數: 10\n",
      "標題: 被喵星人監控的人類！\n",
      "貼文時間: 2020-03-13T04:33:40.507Z\n",
      "留言人數: 2\n",
      "按讚人數: 10\n",
      "標題: 幼貓後腳癱瘓要怎麼照顧及後續處理\n",
      "貼文時間: 2020-03-14T02:00:13.376Z\n",
      "留言人數: 1\n",
      "按讚人數: 9\n",
      "標題: 哈嘍我只是想刷牙洗臉\n",
      "貼文時間: 2020-03-14T01:38:54.989Z\n",
      "留言人數: 2\n",
      "按讚人數: 9\n",
      "標題: 柴柴的黏TT睡姿\n",
      "貼文時間: 2020-03-13T16:28:51.082Z\n",
      "留言人數: 1\n",
      "按讚人數: 9\n",
      "標題: 曬貓文\n",
      "貼文時間: 2020-03-13T03:42:56.635Z\n",
      "留言人數: 1\n",
      "按讚人數: 9\n",
      "標題: 我的塞奶小情人💗🐱\n",
      "貼文時間: 2020-03-13T02:48:36.745Z\n",
      "留言人數: 0\n",
      "按讚人數: 9\n",
      "標題: 來自天使貓貓的禮物🥰\n",
      "貼文時間: 2020-03-13T13:17:26.813Z\n",
      "留言人數: 0\n",
      "按讚人數: 8\n",
      "標題: 貓星人到底能跳多高？\n",
      "貼文時間: 2020-03-13T00:37:20.903Z\n",
      "留言人數: 2\n",
      "按讚人數: 8\n",
      "標題: 大姐默默\n",
      "貼文時間: 2020-03-12T23:06:12.161Z\n",
      "留言人數: 5\n",
      "按讚人數: 7\n",
      "標題: 我叫菜脯 不能吃\n",
      "貼文時間: 2020-03-13T17:52:10.894Z\n",
      "留言人數: 1\n",
      "按讚人數: 6\n",
      "標題: ❗️❗️緊急❗️❗️\n",
      "貼文時間: 2020-03-13T16:31:23.755Z\n",
      "留言人數: 9\n",
      "按讚人數: 6\n",
      "標題: 是要不要好好睡覺！\n",
      "貼文時間: 2020-03-13T14:33:23.445Z\n",
      "留言人數: 2\n",
      "按讚人數: 6\n",
      "標題: #akita #圖多 旅行秋田犬\n",
      "貼文時間: 2020-03-13T12:07:49.281Z\n",
      "留言人數: 1\n",
      "按讚人數: 6\n",
      "標題: 緬甸X網紋\n",
      "貼文時間: 2020-03-13T11:33:25.227Z\n",
      "留言人數: 5\n",
      "按讚人數: 6\n",
      "標題: 怕蜘蛛勿入 🚫🚫🚫\n",
      "貼文時間: 2020-03-13T09:55:35.150Z\n",
      "留言人數: 7\n",
      "按讚人數: 6\n",
      "標題: 鼠寶🐹\n",
      "貼文時間: 2020-03-13T06:58:51.882Z\n",
      "留言人數: 5\n",
      "按讚人數: 6\n"
     ]
    }
   ],
   "source": [
    "# 2. 取出每一筆資料的「標題」、「貼文時間」、「留言人數」、「按讚人數」\n",
    "for i in de:\n",
    "    print(\"標題:\",i['title'])\n",
    "    print(\"貼文時間:\",i[\"createdAt\"])\n",
    "    print(\"留言人數:\",i[\"commentCount\"])\n",
    "    print(\"按讚人數:\",i[\"likeCount\"])"
   ]
  },
  {
   "cell_type": "code",
   "execution_count": 31,
   "metadata": {},
   "outputs": [
    {
     "name": "stdout",
     "output_type": "stream",
     "text": [
      "熱門平均留言人數: 4.6\n",
      "熱門平均按讚人數: 28.066666666666666\n",
      "非熱門平均留言人數: 5.0\n",
      "非熱門平均按讚人數: 6.0\n"
     ]
    }
   ],
   "source": [
    "# 3. 計算熱門/非熱門文章的「平均留言人數」與「平均按讚人數」\n",
    "s_com=0\n",
    "s_like=0\n",
    "for i in de:\n",
    "    s_com+=i['commentCount']\n",
    "    s_like+=i['likeCount']\n",
    "print(\"熱門平均留言人數:\",s_com/30)\n",
    "print(\"熱門平均按讚人數:\",s_like/30)\n",
    "\n",
    "un=requests.get(\"https://www.dcard.tw/_api/forums/pet/posts?popular=false\")\n",
    "up=json.loads(un.text)\n",
    "us_com=0\n",
    "us_like=0\n",
    "for j in up:\n",
    "    us_com+=i['commentCount']\n",
    "    us_like+=i['likeCount']\n",
    "print(\"非熱門平均留言人數:\",us_com/30)\n",
    "print(\"非熱門平均按讚人數:\",us_like/30)"
   ]
  }
 ],
 "metadata": {
  "kernelspec": {
   "display_name": "Python 3",
   "language": "python",
   "name": "python3"
  },
  "language_info": {
   "codemirror_mode": {
    "name": "ipython",
    "version": 3
   },
   "file_extension": ".py",
   "mimetype": "text/x-python",
   "name": "python",
   "nbconvert_exporter": "python",
   "pygments_lexer": "ipython3",
   "version": "3.7.4"
  }
 },
 "nbformat": 4,
 "nbformat_minor": 2
}
